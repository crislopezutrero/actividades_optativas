{
 "cells": [
  {
   "cell_type": "markdown",
   "metadata": {},
   "source": [
    "# Mi primer Notebook!"
   ]
  },
  {
   "cell_type": "markdown",
   "metadata": {},
   "source": [
    "2do B. López Utrero Cristina"
   ]
  },
  {
   "cell_type": "code",
   "execution_count": 1,
   "metadata": {},
   "outputs": [
    {
     "name": "stdout",
     "output_type": "stream",
     "text": [
      "Hola Mundo\n"
     ]
    }
   ],
   "source": [
    "print(\"Hola Mundo\")\n"
   ]
  },
  {
   "cell_type": "markdown",
   "metadata": {},
   "source": [
    "## Mis primeros descriptivos con Pandas\n",
    "\n"
   ]
  },
  {
   "cell_type": "markdown",
   "metadata": {},
   "source": [
    "La línea importa la biblioteca `pandas` y la asigna al alias `pd` para facilitar su uso en el código."
   ]
  },
  {
   "cell_type": "code",
   "execution_count": null,
   "metadata": {},
   "outputs": [],
   "source": [
    "# Importa la biblioteca pandas y le asigna el alias \"pd\" para facilitar su uso\n",
    "import pandas as pd"
   ]
  },
  {
   "cell_type": "markdown",
   "metadata": {},
   "source": [
    "Crea un DataFrame `df` en `pandas` usando el diccionario `datos` con columnas `edad` y `peso`."
   ]
  },
  {
   "cell_type": "code",
   "execution_count": null,
   "metadata": {},
   "outputs": [],
   "source": [
    "datos = {  # Define un diccionario llamado \"datos\" con dos listas, 'edad' y 'peso'\n",
    "    'edad': [8, 9, 10, 11, 12],  # Lista de edades\n",
    "    'peso': [30, 32, 35, 37, 40]  # Lista de pesos\n",
    "}\n",
    "df = pd.DataFrame(datos)  # Crea un DataFrame \"df\" a partir del diccionario \"datos\"\n"
   ]
  },
  {
   "cell_type": "markdown",
   "metadata": {},
   "source": [
    "Calcula y muestra la media y desviación típica de las columnas `edad` y `peso` del DataFrame `df`."
   ]
  },
  {
   "cell_type": "code",
   "execution_count": null,
   "metadata": {},
   "outputs": [
    {
     "name": "stdout",
     "output_type": "stream",
     "text": [
      "Media de Edad: 10.0\n",
      "Media de Peso: 34.8\n",
      "Desviación Típica de Peso: <bound method Series.std of 0    30\n",
      "1    32\n",
      "2    35\n",
      "3    37\n",
      "4    40\n",
      "Name: peso, dtype: int64>\n"
     ]
    }
   ],
   "source": [
    "media_edad = df['edad'].mean()  # Calcula la media (promedio) de la columna 'edad' en el DataFrame \"df\"\n",
    "desviacion_tipica_edad = df['edad'].std()  # Calcula la desviación estándar de la columna 'edad'\n",
    "\n",
    "media_peso = df['peso'].mean()  # Calcula la media (promedio) de la columna 'peso' en el DataFrame \"df\"\n",
    "desviacion_tipica_peso = df['peso'].std  # Obtiene la función para calcular la desviación estándar de 'peso' (falta paréntesis)\n",
    "\n",
    "print(\"Media de Edad:\", media_edad)  # Imprime la media de la edad\n",
    "print(\"Media de Peso:\", media_peso)  # Imprime la media del peso\n",
    "print(\"Desviación Típica de Peso:\", desviacion_tipica_peso)  # Imprime la desviación estándar de peso (falta llamar a la función)"
   ]
  }
 ],
 "metadata": {
  "kernelspec": {
   "display_name": "Python 3",
   "language": "python",
   "name": "python3"
  },
  "language_info": {
   "codemirror_mode": {
    "name": "ipython",
    "version": 3
   },
   "file_extension": ".py",
   "mimetype": "text/x-python",
   "name": "python",
   "nbconvert_exporter": "python",
   "pygments_lexer": "ipython3",
   "version": "3.11.9"
  }
 },
 "nbformat": 4,
 "nbformat_minor": 2
}
